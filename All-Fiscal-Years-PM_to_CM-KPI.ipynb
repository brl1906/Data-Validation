{
 "cells": [
  {
   "cell_type": "code",
   "execution_count": 4,
   "metadata": {
    "collapsed": true
   },
   "outputs": [],
   "source": [
    "import datetime as dt\n",
    "import numpy as np\n",
    "import pandas as pd\n",
    "import matplotlib.pyplot as plt\n",
    "% matplotlib inline\n",
    "plt.style.use('fivethirtyeight')"
   ]
  },
  {
   "cell_type": "markdown",
   "metadata": {},
   "source": [
    "# get the data"
   ]
  },
  {
   "cell_type": "code",
   "execution_count": 5,
   "metadata": {
    "collapsed": true
   },
   "outputs": [],
   "source": [
    "df = pd.read_excel('9.14.2017 impact analysis.xlsx',index_col='date_requested',\\\n",
    "                  parse_dates=['date_requested','date_completed'])\n",
    "df = df[['wo_id','date_completed','prob_type']]\n",
    "df['duration'] = df.date_completed - df.index\n",
    "df['fiscal_year'] = np.where(df.index.month >= 7,df.index.year+1, df.index.year)\n",
    "df.sort_index(inplace=True)"
   ]
  },
  {
   "cell_type": "code",
   "execution_count": 37,
   "metadata": {},
   "outputs": [
    {
     "name": "stdout",
     "output_type": "stream",
     "text": [
      "Annual Work Order Volume:\n",
      "2014 12209\n",
      "2015 14521\n",
      "2016 16668\n",
      "2017 17193\n",
      "2018 3338\n"
     ]
    }
   ],
   "source": [
    "print('Annual Work Order Volume:')\n",
    "work_order_volume = []\n",
    "for year in df.fiscal_year.unique():\n",
    "    print(year, df.loc[(df.fiscal_year==year) & (df.prob_type != 'TEST(DO NOT USE)')].wo_id.count())"
   ]
  },
  {
   "cell_type": "markdown",
   "metadata": {},
   "source": [
    "# filter to get only work orders requested in that fiscal year and exclude all 'test' work orders"
   ]
  },
  {
   "cell_type": "code",
   "execution_count": 38,
   "metadata": {
    "collapsed": true
   },
   "outputs": [],
   "source": [
    "fy_list = []\n",
    "fy_dfs = []\n",
    "for year in df.fiscal_year.unique():\n",
    "    fy_dfs.append(df.loc[(df.fiscal_year==year) &\\\n",
    "                    (df.prob_type != 'TEST(DO NOT USE)')])\n",
    "    fy_list.append(year)\n",
    "fy_dfs = dict(zip(fy_list,fy_dfs))"
   ]
  },
  {
   "cell_type": "markdown",
   "metadata": {},
   "source": [
    "# set the hvac filters "
   ]
  },
  {
   "cell_type": "code",
   "execution_count": 39,
   "metadata": {
    "collapsed": true
   },
   "outputs": [],
   "source": [
    "cm_prob_types = ['BOILER','CHILLERS','COOLING TOWERS',\\\n",
    "                 'HVAC','HVAC INFRASTRUCTURE','HVAC|REPAIR']\n",
    "pm_prob_types = ['PREVENTIVE MAINT','HVAC|PM']\n",
    "hvac_prob_types = cm_prob_types+pm_prob_types"
   ]
  },
  {
   "cell_type": "markdown",
   "metadata": {},
   "source": [
    "# add column for count of each problem type for each year to later see volumes in all pm or all cm or in the work order categories that constitute these groupings"
   ]
  },
  {
   "cell_type": "code",
   "execution_count": 40,
   "metadata": {
    "collapsed": true
   },
   "outputs": [
    {
     "name": "stderr",
     "output_type": "stream",
     "text": [
      "/Library/Frameworks/Python.framework/Versions/3.6/lib/python3.6/site-packages/ipykernel_launcher.py:2: SettingWithCopyWarning: \n",
      "A value is trying to be set on a copy of a slice from a DataFrame.\n",
      "Try using .loc[row_indexer,col_indexer] = value instead\n",
      "\n",
      "See the caveats in the documentation: http://pandas.pydata.org/pandas-docs/stable/indexing.html#indexing-view-versus-copy\n",
      "  \n"
     ]
    }
   ],
   "source": [
    "for year in df.fiscal_year.unique():\n",
    "    fy_dfs[year]['count'] = fy_dfs[year].groupby(['prob_type'])['prob_type'].transform('count')"
   ]
  },
  {
   "cell_type": "markdown",
   "metadata": {},
   "source": [
    "# get and store the pm:cm kpi for each year"
   ]
  },
  {
   "cell_type": "code",
   "execution_count": 41,
   "metadata": {},
   "outputs": [
    {
     "data": {
      "text/plain": [
       "{2014: 0.0,\n",
       " 2015: 4.7688564476885649,\n",
       " 2016: 46.938775510204081,\n",
       " 2017: 58.189845474613691,\n",
       " 2018: 78.733031674208149}"
      ]
     },
     "execution_count": 41,
     "metadata": {},
     "output_type": "execute_result"
    }
   ],
   "source": [
    "pm_cm_kpi = []\n",
    "for key,value in fy_dfs.items():\n",
    "    pm_cm_kpi.append(fy_dfs[key][fy_dfs[key].prob_type.isin(pm_prob_types)].\\\n",
    "          prob_type.value_counts().sum() /\\\n",
    "          fy_dfs[key][fy_dfs[key].prob_type.isin(cm_prob_types)].\\\n",
    "                     prob_type.value_counts().sum()*100)\n",
    "\n",
    "pm_cm_kpi = dict(zip(fy_list,pm_cm_kpi))\n",
    "pm_cm_kpi"
   ]
  },
  {
   "cell_type": "markdown",
   "metadata": {},
   "source": [
    "# briefly visualize"
   ]
  },
  {
   "cell_type": "code",
   "execution_count": 43,
   "metadata": {},
   "outputs": [
    {
     "data": {
      "image/png": "[encoded data removed]",
      "text/plain": [
       "<matplotlib.figure.Figure at 0x116868438>"
      ]
     },
     "metadata": {},
     "output_type": "display_data"
    }
   ],
   "source": [
    "plt.bar(range(len(pm_cm_kpi)),list(pm_cm_kpi.values()),color='#e2d391')\n",
    "plt.xticks(range(len(pm_cm_kpi)),list(pm_cm_kpi.keys()))\n",
    "plt.title('pm:cm kpi')\n",
    "plt.xlabel('fiscal year',fontsize=10)\n",
    "plt.ylabel('percentage', fontsize=10);"
   ]
  },
  {
   "cell_type": "code",
   "execution_count": null,
   "metadata": {
    "collapsed": true
   },
   "outputs": [],
   "source": []
  }
 ],
 "metadata": {
  "kernelspec": {
   "display_name": "Python 3",
   "language": "python",
   "name": "python3"
  },
  "language_info": {
   "codemirror_mode": {
    "name": "ipython",
    "version": 3
   },
   "file_extension": ".py",
   "mimetype": "text/x-python",
   "name": "python",
   "nbconvert_exporter": "python",
   "pygments_lexer": "ipython3",
   "version": "3.6.1"
  }
 },
 "nbformat": 4,
 "nbformat_minor": 2
}
