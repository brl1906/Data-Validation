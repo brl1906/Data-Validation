{
 "cells": [
  {
   "cell_type": "code",
   "execution_count": 3,
   "metadata": {},
   "outputs": [],
   "source": [
    "import datadotworld as dw\n",
    "import matplotlib.pyplot as plt\n",
    "import numpy as np\n",
    "import pandas as pd\n",
    "import plotly as py\n",
    "%matplotlib inline"
   ]
  },
  {
   "cell_type": "code",
   "execution_count": 4,
   "metadata": {},
   "outputs": [
    {
     "name": "stderr",
     "output_type": "stream",
     "text": [
      "/Users/babilalima/Documents/Work_Coding_Projects/data-validation/Data-Validation/venv/lib/python3.6/site-packages/datadotworld/models/dataset.py:194: UserWarning:\n",
      "\n",
      "Unable to set data frame dtypes automatically using archibus_maintenance_data schema. Data types may need to be adjusted manually. Error: Integer column has NA values in column 50\n",
      "\n",
      "/Users/babilalima/Documents/Work_Coding_Projects/data-validation/Data-Validation/venv/lib/python3.6/site-packages/datadotworld/util.py:118: DtypeWarning:\n",
      "\n",
      "Columns (6,8,30,32,34,38,49,53,56,60,68,74,83,85,86,88,90,91) have mixed types. Specify dtype option on import or set low_memory=False.\n",
      "\n"
     ]
    }
   ],
   "source": [
    "# load dataset from data.world service\n",
    "dataset = dw.load_dataset('dgs-kpis/fmd-maintenance')\n",
    "df = dataset.dataframes['archibus_maintenance_data']"
   ]
  },
  {
   "cell_type": "markdown",
   "metadata": {},
   "source": [
    "## prepare data"
   ]
  },
  {
   "cell_type": "code",
   "execution_count": 5,
   "metadata": {},
   "outputs": [
    {
     "name": "stderr",
     "output_type": "stream",
     "text": [
      "/Users/babilalima/Documents/Work_Coding_Projects/data-validation/Data-Validation/venv/lib/python3.6/site-packages/ipykernel_launcher.py:2: SettingWithCopyWarning:\n",
      "\n",
      "\n",
      "A value is trying to be set on a copy of a slice from a DataFrame.\n",
      "Try using .loc[row_indexer,col_indexer] = value instead\n",
      "\n",
      "See the caveats in the documentation: http://pandas.pydata.org/pandas-docs/stable/indexing.html#indexing-view-versus-copy\n",
      "\n",
      "/Users/babilalima/Documents/Work_Coding_Projects/data-validation/Data-Validation/venv/lib/python3.6/site-packages/ipykernel_launcher.py:3: SettingWithCopyWarning:\n",
      "\n",
      "\n",
      "A value is trying to be set on a copy of a slice from a DataFrame.\n",
      "Try using .loc[row_indexer,col_indexer] = value instead\n",
      "\n",
      "See the caveats in the documentation: http://pandas.pydata.org/pandas-docs/stable/indexing.html#indexing-view-versus-copy\n",
      "\n",
      "/Users/babilalima/Documents/Work_Coding_Projects/data-validation/Data-Validation/venv/lib/python3.6/site-packages/ipykernel_launcher.py:5: SettingWithCopyWarning:\n",
      "\n",
      "\n",
      "A value is trying to be set on a copy of a slice from a DataFrame.\n",
      "Try using .loc[row_indexer,col_indexer] = value instead\n",
      "\n",
      "See the caveats in the documentation: http://pandas.pydata.org/pandas-docs/stable/indexing.html#indexing-view-versus-copy\n",
      "\n",
      "/Users/babilalima/Documents/Work_Coding_Projects/data-validation/Data-Validation/venv/lib/python3.6/site-packages/ipykernel_launcher.py:6: SettingWithCopyWarning:\n",
      "\n",
      "\n",
      "A value is trying to be set on a copy of a slice from a DataFrame.\n",
      "Try using .loc[row_indexer,col_indexer] = value instead\n",
      "\n",
      "See the caveats in the documentation: http://pandas.pydata.org/pandas-docs/stable/indexing.html#indexing-view-versus-copy\n",
      "\n",
      "/Users/babilalima/Documents/Work_Coding_Projects/data-validation/Data-Validation/venv/lib/python3.6/site-packages/ipykernel_launcher.py:7: SettingWithCopyWarning:\n",
      "\n",
      "\n",
      "A value is trying to be set on a copy of a slice from a DataFrame\n",
      "\n",
      "See the caveats in the documentation: http://pandas.pydata.org/pandas-docs/stable/indexing.html#indexing-view-versus-copy\n",
      "\n"
     ]
    }
   ],
   "source": [
    "df = df[['wo_id','date_completed','prob_type','date_requested']]\n",
    "df['date_completed'] = pd.to_datetime(df['date_completed'])\n",
    "df['date_requested'] = pd.to_datetime(df['date_requested'])\n",
    "df.set_index('date_requested', inplace=True)\n",
    "df['duration'] = df['date_completed'] - df.index\n",
    "df['fiscal_year'] = np.where(df.index.month >= 7,df.index.year+1, df.index.year)\n",
    "df.sort_index(inplace=True)"
   ]
  },
  {
   "cell_type": "markdown",
   "metadata": {},
   "source": [
    "## filter to get dataframe with only work orders requested in that fiscal year and in doing this exclude all 'test' work orders.¶\n"
   ]
  },
  {
   "cell_type": "code",
   "execution_count": 6,
   "metadata": {},
   "outputs": [],
   "source": [
    "fy_list, fy_dfs = [],[]\n",
    "for year in df['fiscal_year'].unique():\n",
    "    fy_dfs.append(df.loc[(df['fiscal_year']==year) & \n",
    "                        (df['prob_type']!='TEST(DO NOT USE)')])\n",
    "    fy_list.append(year)\n",
    "fy_dfs = dict(zip(fy_list,fy_dfs))"
   ]
  },
  {
   "cell_type": "markdown",
   "metadata": {},
   "source": [
    "## get and store the total number of work orders that were requested in each fiscal year.¶\n"
   ]
  },
  {
   "cell_type": "code",
   "execution_count": 7,
   "metadata": {},
   "outputs": [
    {
     "data": {
      "text/plain": [
       "{2014: 12209, 2015: 14522, 2016: 16679, 2017: 17873, 2018: 16593, 2019: 6186}"
      ]
     },
     "execution_count": 7,
     "metadata": {},
     "output_type": "execute_result"
    }
   ],
   "source": [
    "work_order_volume = []\n",
    "for key, value in fy_dfs.items():\n",
    "    work_order_volume.append(value.wo_id.count())\n",
    "work_order_volume = dict(zip(fy_list,work_order_volume))\n",
    "work_order_volume\n"
   ]
  },
  {
   "cell_type": "markdown",
   "metadata": {},
   "source": [
    "## drop work orders that were not closed in each fiscal year¶\n"
   ]
  },
  {
   "cell_type": "code",
   "execution_count": 8,
   "metadata": {},
   "outputs": [],
   "source": [
    "cleaned_fy_dfs = []\n",
    "for key, value in fy_dfs.items():\n",
    "    cleaned_fy_dfs.append(value[value.date_completed.notnull()])\n",
    "cleaned_fy_dfs = dict(zip(fy_list,cleaned_fy_dfs))"
   ]
  },
  {
   "cell_type": "markdown",
   "metadata": {},
   "source": [
    "## add columns for the following:\n",
    "1. work order volume by problem type\n",
    "2. average duration by problem type\n",
    "3. status for whether or not specific work orders 'hit' or 'missed' on time"
   ]
  },
  {
   "cell_type": "code",
   "execution_count": 9,
   "metadata": {},
   "outputs": [
    {
     "name": "stderr",
     "output_type": "stream",
     "text": [
      "/Users/babilalima/Documents/Work_Coding_Projects/data-validation/Data-Validation/venv/lib/python3.6/site-packages/ipykernel_launcher.py:2: SettingWithCopyWarning:\n",
      "\n",
      "\n",
      "A value is trying to be set on a copy of a slice from a DataFrame.\n",
      "Try using .loc[row_indexer,col_indexer] = value instead\n",
      "\n",
      "See the caveats in the documentation: http://pandas.pydata.org/pandas-docs/stable/indexing.html#indexing-view-versus-copy\n",
      "\n",
      "/Users/babilalima/Documents/Work_Coding_Projects/data-validation/Data-Validation/venv/lib/python3.6/site-packages/ipykernel_launcher.py:4: SettingWithCopyWarning:\n",
      "\n",
      "\n",
      "A value is trying to be set on a copy of a slice from a DataFrame.\n",
      "Try using .loc[row_indexer,col_indexer] = value instead\n",
      "\n",
      "See the caveats in the documentation: http://pandas.pydata.org/pandas-docs/stable/indexing.html#indexing-view-versus-copy\n",
      "\n",
      "/Users/babilalima/Documents/Work_Coding_Projects/data-validation/Data-Validation/venv/lib/python3.6/site-packages/ipykernel_launcher.py:5: SettingWithCopyWarning:\n",
      "\n",
      "\n",
      "A value is trying to be set on a copy of a slice from a DataFrame.\n",
      "Try using .loc[row_indexer,col_indexer] = value instead\n",
      "\n",
      "See the caveats in the documentation: http://pandas.pydata.org/pandas-docs/stable/indexing.html#indexing-view-versus-copy\n",
      "\n"
     ]
    }
   ],
   "source": [
    "for key, value in cleaned_fy_dfs.items():\n",
    "    value['count'] = value.groupby(['prob_type'])['prob_type'].transform('count')\n",
    "    value['avg_duration'] = (value.groupby(['prob_type'])['duration'].\\\n",
    "                        transform('sum') / value['count'])\n",
    "    value['on_time'] = np.where(value.duration <= value.avg_duration,'hit','miss')"
   ]
  },
  {
   "cell_type": "markdown",
   "metadata": {},
   "source": [
    "## display the the work orders closed on time ( divide the number of work orders closed on time by the total number of work orders received in the fiscal year)"
   ]
  },
  {
   "cell_type": "code",
   "execution_count": 10,
   "metadata": {},
   "outputs": [
    {
     "name": "stdout",
     "output_type": "stream",
     "text": [
      "In 2014, 67.2% of work orders were closed on time.\n",
      "In 2015, 78.3% of work orders were closed on time.\n",
      "In 2016, 74.8% of work orders were closed on time.\n",
      "In 2017, 69.8% of work orders were closed on time.\n",
      "In 2018, 65.7% of work orders were closed on time.\n",
      "In 2019, 49.9% of work orders were closed on time.\n"
     ]
    },
    {
     "data": {
      "image/png": "[encoded data removed]",
      "text/plain": [
       "<Figure size 432x288 with 1 Axes>"
      ]
     },
     "metadata": {
      "needs_background": "light"
     },
     "output_type": "display_data"
    }
   ],
   "source": [
    "pct_timely_kpi = []\n",
    "for year in cleaned_fy_dfs.keys():\n",
    "    (pct_timely_kpi.append(cleaned_fy_dfs[year]['on_time'].\n",
    "                           value_counts()[0] / work_order_volume[year] * 100))\n",
    "    print('In {}, {}% of work orders were closed on time.'.format(\n",
    "            year, round(cleaned_fy_dfs[year]['on_time'].value_counts()[0] / \n",
    "                        work_order_volume[year] * 100, 1)))\n",
    "\n",
    "pct_timely_kpi = dict(zip(fy_list,pct_timely_kpi))\n",
    "\n",
    "plt.bar(range(len(fy_list)),list(pct_timely_kpi.values()),color='#e2d391',\\\n",
    "        edgecolor='#868e99',align='center')\n",
    "plt.xticks(range(len(fy_list)),list(pct_timely_kpi.keys()))\n",
    "plt.title('closed on time kpi',fontsize=14)\n",
    "plt.xlabel('fiscal year',fontsize=10)\n",
    "plt.ylabel('percentage',fontsize=10);   "
   ]
  },
  {
   "cell_type": "markdown",
   "metadata": {},
   "source": [
    "# show results arrived in error from not removing the open work orders.\n",
    "NOTE: the kpi will be different, potentially higher if the denominator used is the total number of all closed work orders instead of the total number of work orders requested. This measure calls for using the total number of work orders requested as the denominator for work order volume</font>"
   ]
  },
  {
   "cell_type": "code",
   "execution_count": 11,
   "metadata": {},
   "outputs": [
    {
     "name": "stdout",
     "output_type": "stream",
     "text": [
      "In 2014, 78.47 pct of work orders were closed on time.\n",
      "In 2015, 79.18 pct of work orders were closed on time.\n",
      "In 2016, 76.34 pct of work orders were closed on time.\n",
      "In 2017, 71.89 pct of work orders were closed on time.\n",
      "In 2018, 71.29 pct of work orders were closed on time.\n",
      "In 2019, 69.57 pct of work orders were closed on time.\n"
     ]
    }
   ],
   "source": [
    "problematic_non_drop_values_methodology = []\n",
    "for year in fy_list:\n",
    "    print('In {}, {} pct of work orders were closed on time.'.\\\n",
    "         format(year,round(cleaned_fy_dfs[year].on_time.value_counts()[0]/ \\\n",
    "         cleaned_fy_dfs[year].wo_id.count()*100,2)))\n",
    "    problematic_non_drop_values_methodology.append(cleaned_fy_dfs[year].on_time.value_counts()[0]/ \\\n",
    "         cleaned_fy_dfs[year].wo_id.count()*100)\n",
    "problematic_non_drop_values_methodology = dict(zip(fy_list,problematic_non_drop_values_methodology))"
   ]
  },
  {
   "cell_type": "markdown",
   "metadata": {},
   "source": [
    "# <font color=blue>pm to cm kpi</font>"
   ]
  },
  {
   "cell_type": "code",
   "execution_count": 12,
   "metadata": {},
   "outputs": [],
   "source": [
    "# set hvac filters\n",
    "cm_prob_types = ['BOILER','CHILLERS','COOLING TOWERS',\\\n",
    "                 'HVAC','HVAC INFRASTRUCTURE','HVAC|REPAIR']\n",
    "pm_prob_types = ['PREVENTIVE MAINT','HVAC|PM']\n",
    "hvac_prob_types = cm_prob_types+pm_prob_types"
   ]
  },
  {
   "cell_type": "markdown",
   "metadata": {},
   "source": [
    "## add column for count of each problem type for each year to later see volumes in all pm or all cm or in the work order categories that constitute these groupings"
   ]
  },
  {
   "cell_type": "code",
   "execution_count": 13,
   "metadata": {},
   "outputs": [
    {
     "name": "stderr",
     "output_type": "stream",
     "text": [
      "/Users/babilalima/Documents/Work_Coding_Projects/data-validation/Data-Validation/venv/lib/python3.6/site-packages/ipykernel_launcher.py:2: SettingWithCopyWarning:\n",
      "\n",
      "\n",
      "A value is trying to be set on a copy of a slice from a DataFrame.\n",
      "Try using .loc[row_indexer,col_indexer] = value instead\n",
      "\n",
      "See the caveats in the documentation: http://pandas.pydata.org/pandas-docs/stable/indexing.html#indexing-view-versus-copy\n",
      "\n"
     ]
    }
   ],
   "source": [
    "for year in fy_dfs:\n",
    "    fy_dfs[year]['count'] = fy_dfs[year].groupby(['prob_type'])['prob_type'].transform('count')"
   ]
  },
  {
   "cell_type": "code",
   "execution_count": 14,
   "metadata": {},
   "outputs": [
    {
     "data": {
      "text/plain": [
       "{2014: 0.0,\n",
       " 2015: 4.768856447688565,\n",
       " 2016: 46.93877551020408,\n",
       " 2017: 57.874015748031496,\n",
       " 2018: 71.65932452276064,\n",
       " 2019: 75.37777777777778}"
      ]
     },
     "execution_count": 14,
     "metadata": {},
     "output_type": "execute_result"
    }
   ],
   "source": [
    "pm_cm_kpi = []\n",
    "for key,value in fy_dfs.items():\n",
    "    pm_cm_kpi.append(fy_dfs[key][fy_dfs[key].prob_type.isin(pm_prob_types)].\\\n",
    "          prob_type.value_counts().sum() / \\\n",
    "          fy_dfs[key][fy_dfs[key].prob_type.isin(cm_prob_types)].\\\n",
    "                     prob_type.value_counts().sum()*100)\n",
    "\n",
    "pm_cm_kpi = dict(zip(fy_list,pm_cm_kpi))\n",
    "pm_cm_kpi"
   ]
  },
  {
   "cell_type": "code",
   "execution_count": 16,
   "metadata": {},
   "outputs": [
    {
     "data": {
      "image/png": "[encoded data removed]",
      "text/plain": [
       "<Figure size 432x288 with 1 Axes>"
      ]
     },
     "metadata": {
      "needs_background": "light"
     },
     "output_type": "display_data"
    }
   ],
   "source": [
    "plt.bar(range(len(pm_cm_kpi)),list(pm_cm_kpi.values()),color='#e2d391')\n",
    "plt.xticks(range(len(pm_cm_kpi)),list(pm_cm_kpi.keys()))\n",
    "plt.title('pm:cm kpi')\n",
    "plt.xlabel('fiscal year',fontsize=10)\n",
    "plt.ylabel('percentage', fontsize=10);"
   ]
  },
  {
   "cell_type": "code",
   "execution_count": null,
   "metadata": {},
   "outputs": [],
   "source": []
  }
 ],
 "metadata": {
  "kernelspec": {
   "display_name": "Python 3",
   "language": "python",
   "name": "python3"
  },
  "language_info": {
   "codemirror_mode": {
    "name": "ipython",
    "version": 3
   },
   "file_extension": ".py",
   "mimetype": "text/x-python",
   "name": "python",
   "nbconvert_exporter": "python",
   "pygments_lexer": "ipython3",
   "version": "3.6.3"
  }
 },
 "nbformat": 4,
 "nbformat_minor": 2
}
