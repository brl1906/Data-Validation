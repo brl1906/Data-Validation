{
 "cells": [
  {
   "cell_type": "markdown",
   "metadata": {},
   "source": [
    "1. get excel sheet and dataframe formatted the final/ desired way\n",
    "2. create dataframe\n",
    "3. identify key analysis for kpi  -- program returns\n",
    "4. structure program architecture into component parts\n",
    "5. clean phone number data add the shortened version of 4- and 5- for phone numbers in phoen column cleaning function\n"
   ]
  },
  {
   "cell_type": "code",
   "execution_count": 6,
   "metadata": {},
   "outputs": [
    {
     "data": {
      "text/plain": [
       "'The KPI: This is a measure of satisfaction our customer agencies feel \\nabout how we perform Facility Maintenance tasks related to both routine \\nand non-routine maintenance.  It helps identify:\\n    how satisfied a client is with the time it took for work to be started on a reqeust.\\n'"
      ]
     },
     "execution_count": 6,
     "metadata": {},
     "output_type": "execute_result"
    }
   ],
   "source": [
    "\"\"\"The KPI: This is a measure of satisfaction our customer agencies feel \n",
    "about how we perform Facility Maintenance tasks related to both routine \n",
    "and non-routine maintenance.  It helps identify:\n",
    "    how satisfied a client is with the time it took for work to be started on a reqeust.\n",
    "\"\"\" "
   ]
  },
  {
   "cell_type": "code",
   "execution_count": 2,
   "metadata": {
    "collapsed": true
   },
   "outputs": [],
   "source": [
    "import pandas as pd\n",
    "import fetcher # custom helper module for FMD data"
   ]
  },
  {
   "cell_type": "code",
   "execution_count": 4,
   "metadata": {},
   "outputs": [],
   "source": [
    "df = fetcher.create_satisfaction_dataframe('Data/survey_template_data.xlsx')"
   ]
  },
  {
   "cell_type": "code",
   "execution_count": 7,
   "metadata": {
    "collapsed": true
   },
   "outputs": [
    {
     "data": {
      "text/plain": [
       "['finish',\n",
       " 'location',\n",
       " 'area',\n",
       " 'srl_known',\n",
       " 'wr_id',\n",
       " 'past90_acknowledge_satisfaction',\n",
       " 'past90_satisfaction_comments',\n",
       " 'wait_satisfaction',\n",
       " 'wait_comments',\n",
       " 'communication_satisfaction',\n",
       " 'communication_comments',\n",
       " 'duration_satisfaction',\n",
       " 'duration_comments',\n",
       " 'past90_quality_satisfaction',\n",
       " 'quality_comments',\n",
       " 'helpfullness',\n",
       " 'friendliness',\n",
       " 'knowledge',\n",
       " 'skill',\n",
       " 'speed',\n",
       " 'professional',\n",
       " 'overall_service',\n",
       " 'room_improvement',\n",
       " 'improvement_comments',\n",
       " 'name',\n",
       " 'agency',\n",
       " 'email',\n",
       " 'phone',\n",
       " 'fiscal_year']"
      ]
     },
     "execution_count": 7,
     "metadata": {},
     "output_type": "execute_result"
    }
   ],
   "source": [
    "df.columns.tolist()"
   ]
  },
  {
   "cell_type": "code",
   "execution_count": 28,
   "metadata": {},
   "outputs": [
    {
     "name": "stdout",
     "output_type": "stream",
     "text": [
      "<class 'pandas.core.frame.DataFrame'>\n",
      "DatetimeIndex: 38 entries, 2018-02-26 09:29:45 to 2017-03-31 10:55:09\n",
      "Data columns (total 29 columns):\n",
      "finish                             38 non-null datetime64[ns]\n",
      "location                           38 non-null object\n",
      "area                               38 non-null object\n",
      "srl_known                          38 non-null object\n",
      "wr_id                              38 non-null object\n",
      "past90_acknowledge_satisfaction    36 non-null object\n",
      "past90_satisfaction_comments       9 non-null object\n",
      "wait_satisfaction                  35 non-null object\n",
      "wait_comments                      3 non-null object\n",
      "communication_satisfaction         35 non-null object\n",
      "communication_comments             3 non-null object\n",
      "duration_satisfaction              33 non-null object\n",
      "duration_comments                  3 non-null object\n",
      "past90_quality_satisfaction        33 non-null object\n",
      "quality_comments                   2 non-null object\n",
      "helpfullness                       30 non-null float64\n",
      "friendliness                       30 non-null float64\n",
      "knowledge                          30 non-null float64\n",
      "skill                              31 non-null float64\n",
      "speed                              31 non-null float64\n",
      "professional                       31 non-null float64\n",
      "overall_service                    32 non-null float64\n",
      "room_improvement                   35 non-null object\n",
      "improvement_comments               12 non-null object\n",
      "name                               15 non-null object\n",
      "agency                             15 non-null object\n",
      "email                              15 non-null object\n",
      "phone                              38 non-null object\n",
      "fiscal_year                        38 non-null int64\n",
      "dtypes: datetime64[ns](1), float64(7), int64(1), object(20)\n",
      "memory usage: 10.2+ KB\n"
     ]
    }
   ],
   "source": [
    "df.info()"
   ]
  },
  {
   "cell_type": "code",
   "execution_count": 14,
   "metadata": {},
   "outputs": [
    {
     "data": {
      "text/plain": [
       "fiscal_year  wait_satisfaction\n",
       "2017         Satisfied             4\n",
       "2018         Very satisfied       21\n",
       "             Satisfied             6\n",
       "             Neutral               2\n",
       "             Dissatisfied          1\n",
       "             Very dissatisfied     1\n",
       "Name: wait_satisfaction, dtype: int64"
      ]
     },
     "execution_count": 14,
     "metadata": {},
     "output_type": "execute_result"
    }
   ],
   "source": [
    "df.groupby('fiscal_year')['wait_satisfaction'].value_counts()"
   ]
  },
  {
   "cell_type": "code",
   "execution_count": 26,
   "metadata": {},
   "outputs": [
    {
     "name": "stdout",
     "output_type": "stream",
     "text": [
      "2018\n",
      "Very satisfied       21\n",
      "Satisfied             6\n",
      "Neutral               2\n",
      "Dissatisfied          1\n",
      "Very dissatisfied     1\n",
      "Name: wait_satisfaction, dtype: int64\n",
      "2017\n",
      "Satisfied    4\n",
      "Name: wait_satisfaction, dtype: int64\n"
     ]
    }
   ],
   "source": [
    "for yr in df['fiscal_year'].unique():\n",
    "    print(yr)\n",
    "    print(df[df['fiscal_year'] == yr]['wait_satisfaction'].value_counts())"
   ]
  },
  {
   "cell_type": "code",
   "execution_count": null,
   "metadata": {
    "collapsed": true
   },
   "outputs": [],
   "source": [
    "# take the sum of people satisfied & very satisfied "
   ]
  },
  {
   "cell_type": "code",
   "execution_count": 27,
   "metadata": {},
   "outputs": [
    {
     "data": {
      "text/plain": [
       "31"
      ]
     },
     "execution_count": 27,
     "metadata": {},
     "output_type": "execute_result"
    }
   ],
   "source": [
    "21+6+2+1+1"
   ]
  }
 ],
 "metadata": {
  "kernelspec": {
   "display_name": "Python 3",
   "language": "python",
   "name": "python3"
  },
  "language_info": {
   "codemirror_mode": {
    "name": "ipython",
    "version": 3
   },
   "file_extension": ".py",
   "mimetype": "text/x-python",
   "name": "python",
   "nbconvert_exporter": "python",
   "pygments_lexer": "ipython3",
   "version": "3.6.3"
  }
 },
 "nbformat": 4,
 "nbformat_minor": 2
}
