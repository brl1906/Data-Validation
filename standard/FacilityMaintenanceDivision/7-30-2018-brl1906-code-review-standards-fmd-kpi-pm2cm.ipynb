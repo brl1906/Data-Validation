{
 "cells": [
  {
   "cell_type": "code",
   "execution_count": 1,
   "metadata": {
    "collapsed": true
   },
   "outputs": [],
   "source": [
    "import plotly.plotly as py\n",
    "# custom helper modules to get, clean and graph this data\n",
    "import fetcher, ploter"
   ]
  },
  {
   "cell_type": "code",
   "execution_count": 2,
   "metadata": {},
   "outputs": [],
   "source": [
    "# get data\n",
    "df = fetcher.create_pm2cm_dataframe('Data/archibus_maintenance_data.xlsx')\n",
    "dicts = fetcher.create_pm2cm_kpi_values_dicts(df)\n",
    "\n",
    "years = list(dicts[0])\n",
    "kpi_values = list(dicts[0].values())\n",
    "dataframes = dicts[1]\n",
    "\n",
    "#create & store chart figure object \n",
    "pm2cm_fig = ploter.pm2cm_barchart(years=years,values=kpi_values,dataframes=dataframes)\n",
    "#py.iplot(pm2cm_fig)"
   ]
  },
  {
   "cell_type": "code",
   "execution_count": 8,
   "metadata": {
    "collapsed": true
   },
   "outputs": [],
   "source": [
    "corrective_maintenance = ['BOILER','CHILLERS','COOLING TOWERS','HVAC',\n",
    "                            'HVAC INFRASTRUCTURE','HVAC|REPAIR']\n",
    "preventative_maintenance = ['PREVENTIVE MAINT','HVAC|PM']\n",
    "hvac_problemtypes = corrective_maintenance + preventative_maintenance"
   ]
  },
  {
   "cell_type": "code",
   "execution_count": 12,
   "metadata": {},
   "outputs": [
    {
     "data": {
      "text/plain": [
       "1952"
      ]
     },
     "execution_count": 12,
     "metadata": {},
     "output_type": "execute_result"
    }
   ],
   "source": [
    "dataframes[2018][(dataframes[2018].prob_type.isin(preventative_maintenance))].wo_id.count()"
   ]
  },
  {
   "cell_type": "code",
   "execution_count": 22,
   "metadata": {},
   "outputs": [
    {
     "data": {
      "text/plain": [
       "DatetimeIndex(['2018-06-30', '2018-06-29', '2018-06-29', '2018-06-29',\n",
       "               '2018-06-29', '2018-06-29', '2018-06-29', '2018-06-29',\n",
       "               '2018-06-29', '2018-06-29',\n",
       "               ...\n",
       "               '2017-07-03', '2017-07-03', '2017-07-03', '2017-07-03',\n",
       "               '2017-07-03', '2017-07-03', '2017-07-03', '2017-07-03',\n",
       "               '2017-07-03', '2017-07-03'],\n",
       "              dtype='datetime64[ns]', name='date_requested', length=17105, freq=None)"
      ]
     },
     "execution_count": 22,
     "metadata": {},
     "output_type": "execute_result"
    }
   ],
   "source": [
    "dataframes[2018].index.sort_values(ascending=False)"
   ]
  },
  {
   "cell_type": "code",
   "execution_count": null,
   "metadata": {
    "collapsed": true
   },
   "outputs": [],
   "source": []
  },
  {
   "cell_type": "code",
   "execution_count": 3,
   "metadata": {},
   "outputs": [
    {
     "name": "stdout",
     "output_type": "stream",
     "text": [
      "Sucessful. Return..... fiscal year: pm to cm KPI\n",
      "2019: 56.0\n",
      "2018: 71.6\n",
      "2017: 57.9\n",
      "2016: 46.9\n",
      "2015: 4.8\n",
      "2014: 0.0\n"
     ]
    }
   ],
   "source": [
    "print('Sucessful. Return..... fiscal year: pm to cm KPI')\n",
    "for yr,val in dicts[0].items():\n",
    "    print('{}: {}'.format(yr,round(val,1)))"
   ]
  },
  {
   "cell_type": "code",
   "execution_count": null,
   "metadata": {
    "collapsed": true
   },
   "outputs": [],
   "source": []
  }
 ],
 "metadata": {
  "kernelspec": {
   "display_name": "Python 3",
   "language": "python",
   "name": "python3"
  },
  "language_info": {
   "codemirror_mode": {
    "name": "ipython",
    "version": 3
   },
   "file_extension": ".py",
   "mimetype": "text/x-python",
   "name": "python",
   "nbconvert_exporter": "python",
   "pygments_lexer": "ipython3",
   "version": "3.6.3"
  }
 },
 "nbformat": 4,
 "nbformat_minor": 2
}
