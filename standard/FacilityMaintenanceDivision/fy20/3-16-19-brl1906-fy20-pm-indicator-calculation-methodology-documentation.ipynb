{
 "cells": [
  {
   "cell_type": "markdown",
   "metadata": {},
   "source": [
    "# FMD: KEY PERFORMANCE INDICATOR DATA VALIDATION"
   ]
  },
  {
   "cell_type": "markdown",
   "metadata": {},
   "source": [
    "## measure name: PM Compliance"
   ]
  },
  {
   "cell_type": "markdown",
   "metadata": {},
   "source": [
    "## operational use:\n",
    "Used to evaluate how well the organization is doing on its preventative maintenance across categories and identify which PMs, which staff or which units are performing PMs within the standard set by the Division and which are substandard"
   ]
  },
  {
   "cell_type": "markdown",
   "metadata": {},
   "source": [
    "## methodology for calculating actuals: \n",
    "0. set and document a standard duration for each type of preventative maintenance which determines on the basis of duration, whether or not the PM was complied with or not. (For example: if the refrigerator check pm should be done within 3 days of issuance and an elevator pm should be completed within 2 days of issuance this is the standard for pm compliance.) Example: -->  {'refrigerator':3, 'elevator':2, 'roof':15} \n",
    "\n",
    "\n",
    "1. identify all preventative maintenance activity by problem type. They are: \n",
    "'HVAC|PM','BUILDING PM','PREVENTIVE MAINT','FUEL INSPECTION','BUILDING INTERIOR INSPECTION','INSPECTION','FUEL INSPECTION'\n",
    "\n",
    "\n",
    "2. use the list of preventative maintenance problem types as a filter to get a dataset with only preventative maintenance\n",
    "\n",
    "\n",
    "3. identify the current fiscal year\n",
    "\n",
    "\n",
    "4. use the date a work order was created to capture the fiscal year for the preventative maintenance work order and filter the dataset down to only: preventative maintenance activity within the current fiscal year.\n",
    "\n",
    "\n",
    "5. create a new feature in the dataset for 'duration' by calculating the difference in days between the date completed and the date requested.\n",
    "\n",
    "\n",
    "6. check the duration of a type of pm against its standard to see if it was compliant--completed at or less than the standard duration--or if it was noncompliant.  Add a new feature to the dataset ssign a 1 if compliant and  0 if non-compliant.\n",
    "\n",
    "\n",
    "7. get the count of the total number of pms that were compliant: Example --> compliant_pms_count = 367\n",
    "\n",
    "\n",
    "8. get the count of the total volume of preventative maintenance for the fiscal year. Example: --> all_pms_count = 451\n",
    "\n",
    "\n",
    "9. divide the total volume of preventtaive maintenance for the fiscal year by the number of compliant pms for that fiscal year. Example: --> (compliant_pms_count / all_pms_count) \n",
    "\n",
    "\n",
    "10. multiply the value returned from the above step by 100 to represent the number as a percentage. Show 2 decimal places. \n"
   ]
  },
  {
   "cell_type": "markdown",
   "metadata": {},
   "source": [
    "## methodology for setting the compliance standard:\n",
    "0. for the first year of the new measure determine a standard for each problem type by taking the median of the average duration over the last 3 fiscal years: fy16,fy17,fy18. (The median or midpoint is used here primarily for two reasons: 1. the division was unable to conduct as comparitive study of maintenance practices, to date, to determine if and what the industry standard is for each of the pm types in use at FMD and therefore chose to start using historial performance, 2. because using the average would make the standard--and therefore the measure--too heavily influenced by outliers we are using the midpoint.)  For example the below dataset labeled 'distributionA' has 27 observations and an average of 24 but a median of 9; setting a standard based on the average of this data would mean at worst, the outliers help reward and promote under performance or at best, the outliers would result in a measure insufficient for turning the curve. \n",
    "\n",
    "distributionA = [4,5,6,7,8,11,22,5,6,30,3,4,3,29,45,14,20,10,9,8,7,6,55,66,77,88,99]"
   ]
  },
  {
   "cell_type": "markdown",
   "metadata": {},
   "source": [
    "## methodology for setting target value:\n",
    "0. baseline target value is established by comparing the forecasted value (in Excel) based on last 3 fiscal years and comparing and returning such that, if the forecast value is less than or equal to the actual for the most recent fiscal year, increase the forecast by 1 percentage point but, if the forecasted value is greater than the last actual, use the forecasted value.   (This is the baseline target that is the starting point that the division can adopt as the target or adjust slightly based on anticipated impacts from known programatic changes, events or obstacles in the target fiscal year that are believe to influence the measure. \n",
    "\n",
    "\n",
    "1. document each of these factors and thier anticipated impact on the PM Compliance"
   ]
  },
  {
   "cell_type": "code",
   "execution_count": null,
   "metadata": {
    "collapsed": true
   },
   "outputs": [],
   "source": []
  }
 ],
 "metadata": {
  "kernelspec": {
   "display_name": "Python 3",
   "language": "python",
   "name": "python3"
  },
  "language_info": {
   "codemirror_mode": {
    "name": "ipython",
    "version": 3
   },
   "file_extension": ".py",
   "mimetype": "text/x-python",
   "name": "python",
   "nbconvert_exporter": "python",
   "pygments_lexer": "ipython3",
   "version": "3.6.8"
  }
 },
 "nbformat": 4,
 "nbformat_minor": 2
}
