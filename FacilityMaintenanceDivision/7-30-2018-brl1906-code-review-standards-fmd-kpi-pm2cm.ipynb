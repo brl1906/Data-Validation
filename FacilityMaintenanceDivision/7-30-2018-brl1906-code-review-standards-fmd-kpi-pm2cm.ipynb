{
 "cells": [
  {
   "cell_type": "code",
   "execution_count": null,
   "metadata": {},
   "outputs": [],
   "source": [
    "import plotly.plotly as py\n",
    "# custom helper modules to get, clean and graph this data\n",
    "import fetcher, ploter"
   ]
  },
  {
   "cell_type": "code",
   "execution_count": 382,
   "metadata": {},
   "outputs": [
    {
     "data": {
      "text/html": [
       "<iframe id=\"igraph\" scrolling=\"no\" style=\"border:none;\" seamless=\"seamless\" src=\"https://plot.ly/~brl1906/1194.embed\" height=\"525px\" width=\"100%\"></iframe>"
      ],
      "text/plain": [
       "<plotly.tools.PlotlyDisplay object>"
      ]
     },
     "execution_count": 382,
     "metadata": {},
     "output_type": "execute_result"
    }
   ],
   "source": [
    "# get data\n",
    "df = fetcher.create_pm2cm_dataframe('Data/archibus_maintenance_data.xlsx')\n",
    "dicts = fetcher.create_pm2cm_kpi_values_dicts(df)\n",
    "\n",
    "years = list(dicts[0])\n",
    "kpi_values = list(dicts[0].values())\n",
    "dataframes = dicts[1]\n",
    "\n",
    "#create & store chart figure object \n",
    "pm2cm_fig = ploter.pm2cm_barchart(years=years,values=kpi_values,dataframes=dataframes)\n",
    "py.iplot(pm2cm_fig)"
   ]
  },
  {
   "cell_type": "code",
   "execution_count": null,
   "metadata": {},
   "outputs": [],
   "source": [
    "print('Sucessful. Return..... fiscal year: pm to cm KPI')\n",
    "for yr,val in dicts[0].items():\n",
    "    print('{}: {}'.format(yr,round(val,1)))"
   ]
  },
  {
   "cell_type": "code",
   "execution_count": null,
   "metadata": {},
   "outputs": [],
   "source": []
  }
 ],
 "metadata": {
  "kernelspec": {
   "display_name": "Python 3",
   "language": "python",
   "name": "python3"
  },
  "language_info": {
   "codemirror_mode": {
    "name": "ipython",
    "version": 3
   },
   "file_extension": ".py",
   "mimetype": "text/x-python",
   "name": "python",
   "nbconvert_exporter": "python",
   "pygments_lexer": "ipython3",
   "version": "3.6.3"
  }
 },
 "nbformat": 4,
 "nbformat_minor": 2
}
